{
 "cells": [
  {
   "cell_type": "markdown",
   "id": "e0a7a17e",
   "metadata": {
    "tags": []
   },
   "source": [
    "# Use this notebook to \n",
    " - download the contents of an Object store bucket (source) to a local folder within Jupyter Hub (download_to)\n",
    " - then push those contents to another Object store bucket (target)\n",
    "\n",
    "This *substantially faster* than downloading and uploading manually.\n",
    "\n",
    "### You will need to make substitutions take actions in the cell marked **MAKE CHANGES HERE** below "
   ]
  },
  {
   "cell_type": "code",
   "execution_count": 1,
   "id": "79714be6-696a-4e62-8c99-ae9bc2ef451a",
   "metadata": {
    "tags": []
   },
   "outputs": [],
   "source": [
    "import os\n",
    "import boto3"
   ]
  },
  {
   "cell_type": "markdown",
   "id": "0a20fc45-7adf-4853-a2f0-4d490d3c4e3f",
   "metadata": {},
   "source": [
    "##### The next cell requires you to have created an OpenShift AI Data Connection to Object storage (Minio) \n",
    "##### inside your OpenShift AI Project. If you have not, manually override them (*source_region* should be 'none')"
   ]
  },
  {
   "cell_type": "code",
   "execution_count": 2,
   "id": "37789ea0-8729-4bf5-8ae5-e976fddfc800",
   "metadata": {
    "tags": []
   },
   "outputs": [
    {
     "name": "stdout",
     "output_type": "stream",
     "text": [
      "minio\n",
      "minio123\n",
      "none\n",
      "https://minio-api-minio.apps.rosa-55nsv.lax9.p1.openshiftapps.com\n",
      "models\n"
     ]
    }
   ],
   "source": [
    "source_key_id = os.getenv(\"AWS_ACCESS_KEY_ID\")\n",
    "source_secret_key = os.getenv(\"AWS_SECRET_ACCESS_KEY\")\n",
    "source_region = os.getenv(\"AWS_DEFAULT_REGION\")\n",
    "source_endpoint = os.getenv(\"AWS_S3_ENDPOINT\")\n",
    "source_bucket_name = os.getenv(\"AWS_S3_BUCKET\")\n",
    "\n",
    "print (source_key_id)\n",
    "print (source_secret_key)\n",
    "print (source_region)\n",
    "print (source_endpoint)\n",
    "print (source_bucket_name)\n"
   ]
  },
  {
   "cell_type": "markdown",
   "id": "f4a47044-7da0-4465-8d99-53f055e474a9",
   "metadata": {
    "tags": []
   },
   "source": [
    "# **MAKE CHANGES HERE**  \n",
    "\n",
    "Details of what you need to do: \n",
    "- *download_to* is the name of the local directory that will be created here in Jupyter Hub to download to and upload from\n",
    "- *source_bucket* and *source_subfolder* are the bucket and subfolder in the Object Storage you will pull from\n",
    "- *target_bucket* and *target_subfolder* are the bucket and subfolder in the Object Storage you will push to\n",
    "\n",
    "## Note - before running the notebook, you should delete the **download_to** if it's already there"
   ]
  },
  {
   "cell_type": "code",
   "execution_count": 3,
   "id": "f89ec490-f1c9-4f7a-a2a7-0244c988bb27",
   "metadata": {
    "tags": []
   },
   "outputs": [],
   "source": [
    "download_to=\"<INSERT YOURS>\"\n",
    "\n",
    "source_bucket = \"<INSERT YOURS>\"\n",
    "source_subfolder = \"<INSERT YOURS>\"\n",
    "\n",
    "target_bucket = \"<INSERT YOURS>\"\n",
    "target_subfolder = \"<INSERT YOURS>\"\n",
    "target_url = \"<INSERT YOURS>\"\n",
    "target_key_id = \"<INSERT YOURS>\"\n",
    "target_secret_key = \"<INSERT YOURS>\"\n",
    "target_endpoint = \"<INSERT YOURS>\"\n",
    "\n",
    "\n",
    "# Example entries (URLs will be invalid for you)\n",
    "download_to=\"download_to\"\n",
    "\n",
    "source_bucket = \"models\"\n",
    "source_subfolder = \"granite-7b-lab/\"\n",
    "\n",
    "target_bucket = \"models-target\"\n",
    "target_subfolder = \"granite-7b-lab/\"\n",
    "target_url = \"https://minio-api-minio.apps.rosa-55nsv.lax9.p1.openshiftapps.com\"\n",
    "target_key_id = source_key_id\n",
    "target_secret_key = source_secret_key\n",
    "target_endpoint = target_url\n"
   ]
  },
  {
   "cell_type": "code",
   "execution_count": 4,
   "id": "46070831-9839-4e82-b0ce-5738f133a9d7",
   "metadata": {
    "tags": []
   },
   "outputs": [],
   "source": [
    "s3 = boto3.client(\n",
    "   \"s3\",\n",
    "   aws_access_key_id=source_key_id,\n",
    "   aws_secret_access_key=source_secret_key,\n",
    "   endpoint_url=source_endpoint,\n",
    "   verify=True)\n",
    "\n"
   ]
  },
  {
   "cell_type": "code",
   "execution_count": 5,
   "id": "63190c78-c675-4000-8b78-015b35850a16",
   "metadata": {
    "tags": []
   },
   "outputs": [],
   "source": [
    "if not os.path.exists(download_to):\n",
    "  os.mkdir(download_to) "
   ]
  },
  {
   "cell_type": "markdown",
   "id": "9732d9fa-1280-40bf-922d-f0c6d61ae75a",
   "metadata": {},
   "source": [
    "## Download from source Object Storage"
   ]
  },
  {
   "cell_type": "code",
   "execution_count": 6,
   "id": "2ba297df-bd90-4c4d-9bf6-70b05305a988",
   "metadata": {
    "tags": []
   },
   "outputs": [
    {
     "name": "stdout",
     "output_type": "stream",
     "text": [
      "Downloading granite-7b-lab/.gitattributes to download_to/.gitattributes\n",
      "Downloading granite-7b-lab/README.md to download_to/README.md\n",
      "Downloading granite-7b-lab/added_tokens.json to download_to/added_tokens.json\n",
      "Downloading granite-7b-lab/config.json to download_to/config.json\n",
      "Downloading granite-7b-lab/generation_config.json to download_to/generation_config.json\n",
      "Downloading granite-7b-lab/model-00001-of-00003.safetensors to download_to/model-00001-of-00003.safetensors\n",
      "Downloading granite-7b-lab/model-00002-of-00003.safetensors to download_to/model-00002-of-00003.safetensors\n",
      "Downloading granite-7b-lab/model-00003-of-00003.safetensors to download_to/model-00003-of-00003.safetensors\n",
      "Downloading granite-7b-lab/model.safetensors.index.json to download_to/model.safetensors.index.json\n",
      "Downloading granite-7b-lab/paper.pdf to download_to/paper.pdf\n",
      "Downloading granite-7b-lab/special_tokens_map.json to download_to/special_tokens_map.json\n",
      "Downloading granite-7b-lab/tokenizer.json to download_to/tokenizer.json\n",
      "Downloading granite-7b-lab/tokenizer.model to download_to/tokenizer.model\n",
      "Downloading granite-7b-lab/tokenizer_config.json to download_to/tokenizer_config.json\n"
     ]
    }
   ],
   "source": [
    "import boto3\n",
    "import os\n",
    "\n",
    "def download_s3_folder(bucket_name, folder_name, local_dir):\n",
    "\n",
    "    # List all objects in the specified folder\n",
    "    paginator = s3.get_paginator('list_objects_v2')\n",
    "    pages = paginator.paginate(Bucket=bucket_name, Prefix=folder_name)\n",
    "\n",
    "    for page in pages:\n",
    "        if 'Contents' in page:\n",
    "            for obj in page['Contents']:\n",
    "                key = obj['Key']\n",
    "                if not key.endswith('/'):\n",
    "                    local_file_path = os.path.join(local_dir, key[len(folder_name):])\n",
    "                    local_file_dir = os.path.dirname(local_file_path)\n",
    "\n",
    "                    if not os.path.exists(local_file_dir):\n",
    "                        os.makedirs(local_file_dir)\n",
    "                    \n",
    "                    print(f\"Downloading {key} to {local_file_path}\")\n",
    "                    s3.download_file(bucket_name, key, local_file_path)\n",
    "\n",
    "\n",
    "\n",
    "# Example usage\n",
    "bucket_name = source_bucket\n",
    "folder_name = source_subfolder  # Ensure it ends with a slash\n",
    "local_dir = download_to\n",
    "\n",
    "download_s3_folder(bucket_name, folder_name, local_dir)\n"
   ]
  },
  {
   "cell_type": "markdown",
   "id": "8fbb46b7-6117-4b53-b043-ab4249fed56d",
   "metadata": {},
   "source": [
    "## Upload to target Object Storage"
   ]
  },
  {
   "cell_type": "code",
   "execution_count": null,
   "id": "13950de4-9f96-4117-8254-8e37cc5fa48c",
   "metadata": {
    "tags": []
   },
   "outputs": [
    {
     "name": "stdout",
     "output_type": "stream",
     "text": [
      "added_tokens.json\n",
      "special_tokens_map.json\n",
      "config.json\n",
      "model.safetensors.index.json\n",
      "model-00002-of-00003.safetensors\n"
     ]
    }
   ],
   "source": [
    "target_s3 = boto3.client(\n",
    "   \"s3\",\n",
    "   aws_access_key_id=target_key_id,\n",
    "   aws_secret_access_key=target_secret_key,\n",
    "   endpoint_url=target_endpoint,\n",
    "   verify=True)\n",
    "\n",
    "Direc = download_to\n",
    "\n",
    "files = os.listdir(Direc)\n",
    "files = [f for f in files if os.path.isfile(Direc+'/'+f)]\n",
    "\n",
    "for filename in files:\n",
    "  print(filename)\n",
    "  target_s3.upload_file(download_to+\"/\"+filename, target_bucket, target_subfolder+filename)"
   ]
  },
  {
   "cell_type": "code",
   "execution_count": null,
   "id": "139b96f1-50ca-4ebd-af7a-45098fb9d21b",
   "metadata": {
    "tags": []
   },
   "outputs": [],
   "source": [
    "print (\"Done\")"
   ]
  }
 ],
 "metadata": {
  "kernelspec": {
   "display_name": "Python 3.9",
   "language": "python",
   "name": "python3"
  },
  "language_info": {
   "codemirror_mode": {
    "name": "ipython",
    "version": 3
   },
   "file_extension": ".py",
   "mimetype": "text/x-python",
   "name": "python",
   "nbconvert_exporter": "python",
   "pygments_lexer": "ipython3",
   "version": "3.9.18"
  }
 },
 "nbformat": 4,
 "nbformat_minor": 5
}
