{
 "cells": [
  {
   "cell_type": "markdown",
   "id": "e0a7a17e",
   "metadata": {},
   "source": [
    "# Run this to push vLLM models to Object Storage"
   ]
  },
  {
   "cell_type": "code",
   "execution_count": null,
   "id": "79714be6-696a-4e62-8c99-ae9bc2ef451a",
   "metadata": {
    "tags": []
   },
   "outputs": [],
   "source": [
    "import os\n",
    "import boto3"
   ]
  },
  {
   "cell_type": "code",
   "execution_count": null,
   "id": "37789ea0-8729-4bf5-8ae5-e976fddfc800",
   "metadata": {
    "tags": []
   },
   "outputs": [],
   "source": [
    "key_id = os.getenv(\"AWS_ACCESS_KEY_ID\")\n",
    "secret_key = os.getenv(\"AWS_SECRET_ACCESS_KEY\")\n",
    "region = os.getenv(\"AWS_DEFAULT_REGION\")\n",
    "endpoint = os.getenv(\"AWS_S3_ENDPOINT\")\n",
    "bucket_name = os.getenv(\"AWS_S3_BUCKET\")\n",
    "\n",
    "print (key_id)\n",
    "print (secret_key)\n",
    "print (region)\n",
    "print (endpoint)\n",
    "print (bucket_name)\n"
   ]
  },
  {
   "cell_type": "code",
   "execution_count": null,
   "id": "f89ec490-f1c9-4f7a-a2a7-0244c988bb27",
   "metadata": {
    "tags": []
   },
   "outputs": [],
   "source": [
    "# Uncomment the next 2 lines if you want to use the LLM model we fine tuned previously in ./llamafinetune_demo.ipynb\n",
    "source_subfolder = \"Mistral-7B-Instruct-v0.2/\"\n",
    "target_subfolder = \"vLLM/\"\n",
    "\n",
    "# Uncomment the next 2 lines if you want to use the unmodified (not fine-tuned) Llama-2-7b model we downloaded in llamainfer_demo_caikit.ipynb\n",
    "# source_subfolder = \"Llama-2-7b-chat-hf-sharded-bf16-caikit/\"\n",
    "# target_subfolder = \"llm-trelis-llama-2-7b-caikit/\"\n",
    "\n"
   ]
  },
  {
   "cell_type": "code",
   "execution_count": null,
   "id": "46070831-9839-4e82-b0ce-5738f133a9d7",
   "metadata": {
    "tags": []
   },
   "outputs": [],
   "source": [
    "s3 = boto3.client(\n",
    "   \"s3\",\n",
    "   aws_access_key_id=key_id,\n",
    "   aws_secret_access_key=secret_key,\n",
    "   endpoint_url=endpoint,\n",
    "   verify=true)"
   ]
  },
  {
   "cell_type": "code",
   "execution_count": null,
   "id": "89383bf0-5253-4538-a032-2d9724c851f3",
   "metadata": {
    "tags": []
   },
   "outputs": [],
   "source": [
    "import os\n",
    "\n",
    "\n",
    "Direc = source_subfolder\n",
    "# Direc = \".\"\n",
    "\n",
    "files = os.listdir(Direc)\n",
    "\n",
    "files = [f for f in files if os.path.isfile(Direc+'/'+f)]\n",
    "\n",
    "    \n",
    "for x in files:\n",
    "  print(x)    \n"
   ]
  },
  {
   "cell_type": "code",
   "execution_count": null,
   "id": "eeb1fdb7-d481-41bf-9b95-2dff8a431d59",
   "metadata": {
    "tags": []
   },
   "outputs": [],
   "source": [
    "for filename in files:\n",
    "  print(filename)\n",
    "  s3.upload_file(source_subfolder+filename, bucket_name, target_subfolder+filename)"
   ]
  },
  {
   "cell_type": "code",
   "execution_count": null,
   "id": "139b96f1-50ca-4ebd-af7a-45098fb9d21b",
   "metadata": {
    "tags": []
   },
   "outputs": [],
   "source": [
    "print (\"Done\")"
   ]
  }
 ],
 "metadata": {
  "kernelspec": {
   "display_name": "Python 3.9",
   "language": "python",
   "name": "python3"
  },
  "language_info": {
   "codemirror_mode": {
    "name": "ipython",
    "version": 3
   },
   "file_extension": ".py",
   "mimetype": "text/x-python",
   "name": "python",
   "nbconvert_exporter": "python",
   "pygments_lexer": "ipython3",
   "version": "3.9.18"
  }
 },
 "nbformat": 4,
 "nbformat_minor": 5
}
